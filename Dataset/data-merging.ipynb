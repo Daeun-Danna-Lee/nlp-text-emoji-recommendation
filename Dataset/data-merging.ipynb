{
 "cells": [
  {
   "cell_type": "code",
   "execution_count": 1,
   "id": "b3e08859",
   "metadata": {},
   "outputs": [],
   "source": [
    "import pandas as pd\n",
    "from pandas import DataFrame as df\n",
    "import csv"
   ]
  },
  {
   "cell_type": "markdown",
   "id": "64dcd880",
   "metadata": {},
   "source": [
    "### 1. 감정 분류를 위한 대화 음성 데이터셋"
   ]
  },
  {
   "cell_type": "code",
   "execution_count": 2,
   "id": "56f54e85",
   "metadata": {},
   "outputs": [],
   "source": [
    "# 파일 불러오기\n",
    "\n",
    "df_wav    = pd.read_csv('./감정 분류를 위한 대화 음성 데이터셋/processed_data', names=['Sentence', 'Emotion'])\n",
    "df_short  = pd.read_csv('./한국어 감정 정보가 포함된 단발성 대화 데이터셋/processed_data_short', names=['Sentence', 'Emotion'])\n",
    "df_long   = pd.read_csv('./한국어 감정 정보가 포함된 연속적 대화 데이터셋/processed_data_long', names=['Sentence', 'Emotion'])"
   ]
  },
  {
   "cell_type": "code",
   "execution_count": 4,
   "id": "1e929828",
   "metadata": {},
   "outputs": [],
   "source": [
    "# 모든 데이터 합치기\n",
    "\n",
    "merged_df = pd.concat([df_wav, df_short, df_long])\n",
    "merged_df = merged_df.reset_index()"
   ]
  },
  {
   "cell_type": "code",
   "execution_count": 8,
   "id": "50f26d31",
   "metadata": {},
   "outputs": [],
   "source": [
    "data = merged_df.drop(columns=['index'], axis=0)"
   ]
  },
  {
   "cell_type": "code",
   "execution_count": 10,
   "id": "89d8040d",
   "metadata": {},
   "outputs": [
    {
     "data": {
      "text/html": [
       "<div>\n",
       "<style scoped>\n",
       "    .dataframe tbody tr th:only-of-type {\n",
       "        vertical-align: middle;\n",
       "    }\n",
       "\n",
       "    .dataframe tbody tr th {\n",
       "        vertical-align: top;\n",
       "    }\n",
       "\n",
       "    .dataframe thead th {\n",
       "        text-align: right;\n",
       "    }\n",
       "</style>\n",
       "<table border=\"1\" class=\"dataframe\">\n",
       "  <thead>\n",
       "    <tr style=\"text-align: right;\">\n",
       "      <th></th>\n",
       "      <th>Sentence</th>\n",
       "      <th>Emotion</th>\n",
       "    </tr>\n",
       "  </thead>\n",
       "  <tbody>\n",
       "    <tr>\n",
       "      <th>0</th>\n",
       "      <td>어, 청소 니가 대신 해 줘!</td>\n",
       "      <td>4.0</td>\n",
       "    </tr>\n",
       "    <tr>\n",
       "      <th>1</th>\n",
       "      <td>둘 다 청소 하기 싫어. 귀찮아.</td>\n",
       "      <td>4.0</td>\n",
       "    </tr>\n",
       "    <tr>\n",
       "      <th>2</th>\n",
       "      <td>둘 다 하기 싫어서 화내.</td>\n",
       "      <td>1.0</td>\n",
       "    </tr>\n",
       "    <tr>\n",
       "      <th>3</th>\n",
       "      <td>그럼 방세는 어떡해.</td>\n",
       "      <td>5.0</td>\n",
       "    </tr>\n",
       "    <tr>\n",
       "      <th>4</th>\n",
       "      <td>권태긴줄 알았는데 다른 사람이 생겼나보더라고.</td>\n",
       "      <td>5.0</td>\n",
       "    </tr>\n",
       "    <tr>\n",
       "      <th>...</th>\n",
       "      <td>...</td>\n",
       "      <td>...</td>\n",
       "    </tr>\n",
       "    <tr>\n",
       "      <th>138207</th>\n",
       "      <td>얘긴 다 끝났냐? 원예부</td>\n",
       "      <td>4.0</td>\n",
       "    </tr>\n",
       "    <tr>\n",
       "      <th>138208</th>\n",
       "      <td>예. 그거 때문에, 부탁이 있......는......데요.</td>\n",
       "      <td>4.0</td>\n",
       "    </tr>\n",
       "    <tr>\n",
       "      <th>138209</th>\n",
       "      <td>여자 숨겨달라는거면 사절이다.</td>\n",
       "      <td>4.0</td>\n",
       "    </tr>\n",
       "    <tr>\n",
       "      <th>138210</th>\n",
       "      <td>아무래도 안되나요?</td>\n",
       "      <td>4.0</td>\n",
       "    </tr>\n",
       "    <tr>\n",
       "      <th>138211</th>\n",
       "      <td>그 여자랑 내가 무슨 상관인데? 아까는 탐정님이 부탁하기에 너 구하는 김에 주워왔지...</td>\n",
       "      <td>4.0</td>\n",
       "    </tr>\n",
       "  </tbody>\n",
       "</table>\n",
       "<p>138212 rows × 2 columns</p>\n",
       "</div>"
      ],
      "text/plain": [
       "                                                 Sentence  Emotion\n",
       "0                                        어, 청소 니가 대신 해 줘!      4.0\n",
       "1                                      둘 다 청소 하기 싫어. 귀찮아.      4.0\n",
       "2                                          둘 다 하기 싫어서 화내.      1.0\n",
       "3                                             그럼 방세는 어떡해.      5.0\n",
       "4                               권태긴줄 알았는데 다른 사람이 생겼나보더라고.      5.0\n",
       "...                                                   ...      ...\n",
       "138207                                      얘긴 다 끝났냐? 원예부      4.0\n",
       "138208                   예. 그거 때문에, 부탁이 있......는......데요.      4.0\n",
       "138209                                   여자 숨겨달라는거면 사절이다.      4.0\n",
       "138210                                         아무래도 안되나요?      4.0\n",
       "138211  그 여자랑 내가 무슨 상관인데? 아까는 탐정님이 부탁하기에 너 구하는 김에 주워왔지...      4.0\n",
       "\n",
       "[138212 rows x 2 columns]"
      ]
     },
     "execution_count": 10,
     "metadata": {},
     "output_type": "execute_result"
    }
   ],
   "source": [
    "data"
   ]
  },
  {
   "cell_type": "code",
   "execution_count": 11,
   "id": "e0776642",
   "metadata": {},
   "outputs": [],
   "source": [
    "# 데이터 저장\n",
    "\n",
    "path = './purified_data'\n",
    "data.to_csv(path , sep=',' , header=None , index=None)"
   ]
  },
  {
   "cell_type": "code",
   "execution_count": null,
   "id": "520ed217",
   "metadata": {},
   "outputs": [],
   "source": []
  }
 ],
 "metadata": {
  "kernelspec": {
   "display_name": "Python 3 (ipykernel)",
   "language": "python",
   "name": "python3"
  },
  "language_info": {
   "codemirror_mode": {
    "name": "ipython",
    "version": 3
   },
   "file_extension": ".py",
   "mimetype": "text/x-python",
   "name": "python",
   "nbconvert_exporter": "python",
   "pygments_lexer": "ipython3",
   "version": "3.9.7"
  }
 },
 "nbformat": 4,
 "nbformat_minor": 5
}
